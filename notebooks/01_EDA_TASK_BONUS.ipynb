{
 "cells": [
  {
   "cell_type": "code",
   "execution_count": 2,
   "id": "9b9aaa98",
   "metadata": {},
   "outputs": [],
   "source": [
    "import pandas as pd\n",
    "import matplotlib.pyplot as plt\n",
    "import re"
   ]
  },
  {
   "cell_type": "code",
   "execution_count": 4,
   "id": "a8bd32ef",
   "metadata": {},
   "outputs": [
    {
     "data": {
      "text/html": [
       "<div>\n",
       "<style scoped>\n",
       "    .dataframe tbody tr th:only-of-type {\n",
       "        vertical-align: middle;\n",
       "    }\n",
       "\n",
       "    .dataframe tbody tr th {\n",
       "        vertical-align: top;\n",
       "    }\n",
       "\n",
       "    .dataframe thead th {\n",
       "        text-align: right;\n",
       "    }\n",
       "</style>\n",
       "<table border=\"1\" class=\"dataframe\">\n",
       "  <thead>\n",
       "    <tr style=\"text-align: right;\">\n",
       "      <th></th>\n",
       "      <th>Unnamed: 0</th>\n",
       "      <th>Title</th>\n",
       "      <th>Synopsis</th>\n",
       "      <th>Tag</th>\n",
       "    </tr>\n",
       "  </thead>\n",
       "  <tbody>\n",
       "    <tr>\n",
       "      <th>0</th>\n",
       "      <td>0</td>\n",
       "      <td>I tre volti della paura</td>\n",
       "      <td>Note: this synopsis is for the orginal Italian...</td>\n",
       "      <td>cult, horror, gothic, murder, atmospheric</td>\n",
       "    </tr>\n",
       "    <tr>\n",
       "      <th>1</th>\n",
       "      <td>1</td>\n",
       "      <td>Dungeons &amp; Dragons: The Book of Vile Darkness</td>\n",
       "      <td>Two thousand years ago, Nhagruul the Foul, a s...</td>\n",
       "      <td>violence</td>\n",
       "    </tr>\n",
       "    <tr>\n",
       "      <th>2</th>\n",
       "      <td>2</td>\n",
       "      <td>The Shop Around the Corner</td>\n",
       "      <td>Matuschek's, a gift store in Budapest, is the ...</td>\n",
       "      <td>romantic</td>\n",
       "    </tr>\n",
       "    <tr>\n",
       "      <th>3</th>\n",
       "      <td>3</td>\n",
       "      <td>Mr. Holland's Opus</td>\n",
       "      <td>Glenn Holland, not a morning person by anyone'...</td>\n",
       "      <td>inspiring, romantic, stupid, feel-good</td>\n",
       "    </tr>\n",
       "    <tr>\n",
       "      <th>4</th>\n",
       "      <td>4</td>\n",
       "      <td>Scarface</td>\n",
       "      <td>In May 1980, a Cuban man named Tony Montana (A...</td>\n",
       "      <td>cruelty, murder, dramatic, cult, violence, atm...</td>\n",
       "    </tr>\n",
       "  </tbody>\n",
       "</table>\n",
       "</div>"
      ],
      "text/plain": [
       "   Unnamed: 0                                          Title  \\\n",
       "0           0                        I tre volti della paura   \n",
       "1           1  Dungeons & Dragons: The Book of Vile Darkness   \n",
       "2           2                     The Shop Around the Corner   \n",
       "3           3                             Mr. Holland's Opus   \n",
       "4           4                                       Scarface   \n",
       "\n",
       "                                            Synopsis  \\\n",
       "0  Note: this synopsis is for the orginal Italian...   \n",
       "1  Two thousand years ago, Nhagruul the Foul, a s...   \n",
       "2  Matuschek's, a gift store in Budapest, is the ...   \n",
       "3  Glenn Holland, not a morning person by anyone'...   \n",
       "4  In May 1980, a Cuban man named Tony Montana (A...   \n",
       "\n",
       "                                                 Tag  \n",
       "0          cult, horror, gothic, murder, atmospheric  \n",
       "1                                           violence  \n",
       "2                                           romantic  \n",
       "3             inspiring, romantic, stupid, feel-good  \n",
       "4  cruelty, murder, dramatic, cult, violence, atm...  "
      ]
     },
     "execution_count": 4,
     "metadata": {},
     "output_type": "execute_result"
    }
   ],
   "source": [
    "# --- Load Data ---\n",
    "df = pd.read_csv(r'C:\\Users\\Ana\\Desktop\\PROJETO_ENHESA_BONUS\\bonus_task.csv')\n",
    "\n",
    "# --- Basic info ---\n",
    "df.shape \n",
    "df.head()"
   ]
  },
  {
   "cell_type": "code",
   "execution_count": null,
   "id": "7329fc49",
   "metadata": {},
   "outputs": [],
   "source": []
  },
  {
   "cell_type": "code",
   "execution_count": null,
   "id": "05522027",
   "metadata": {},
   "outputs": [],
   "source": [
    "# --- it is also in util --- \n",
    "\n",
    "def clean_text(text):\n",
    "    if not isinstance(text, str):\n",
    "        return \"\"\n",
    "    text = re.sub(r'[;=]{3,}', ' ', text)\n",
    "    text = re.sub(r'\\s+', ' ', text)\n",
    "    return text.strip().lower()"
   ]
  },
  {
   "cell_type": "code",
   "execution_count": 24,
   "id": "36a3bf0e",
   "metadata": {},
   "outputs": [
    {
     "data": {
      "text/plain": [
       "Tag\n",
       "[murder]                                                                                                                     1004\n",
       "[romantic]                                                                                                                    731\n",
       "[violence]                                                                                                                    584\n",
       "[psychedelic]                                                                                                                 437\n",
       "[flashback]                                                                                                                   332\n",
       "                                                                                                                             ... \n",
       "[suspenseful, cruelty, murder, violence, romantic, revenge]                                                                     1\n",
       "[comedy, murder, violence, revenge, flashback, suspenseful]                                                                     1\n",
       "[boring, neo noir, murder, cult, violence, flashback, clever, psychedelic]                                                      1\n",
       "[comedy, neo noir, murder, paranormal, cult, violence, flashback, good versus evil, psychedelic, humor, tragedy, revenge]       1\n",
       "[neo noir, realism, murder, violence, atmospheric, suspenseful]                                                                 1\n",
       "Name: count, Length: 5604, dtype: int64"
      ]
     },
     "execution_count": 24,
     "metadata": {},
     "output_type": "execute_result"
    }
   ],
   "source": [
    "df['Tag'].value_counts()"
   ]
  },
  {
   "cell_type": "code",
   "execution_count": null,
   "id": "9764b96d",
   "metadata": {},
   "outputs": [
    {
     "name": "stdout",
     "output_type": "stream",
     "text": [
      "Nulls per column:\n",
      "Unnamed: 0    0\n",
      "Title         0\n",
      "Synopsis      0\n",
      "Tag           0\n",
      "dtype: int64\n",
      "num_tags\n",
      "1     5516\n",
      "2     3124\n",
      "3     1959\n",
      "4     1238\n",
      "5      916\n",
      "6      606\n",
      "7      478\n",
      "8      316\n",
      "9      223\n",
      "10     135\n",
      "11     107\n",
      "13      52\n",
      "12      51\n",
      "14      33\n",
      "15      28\n",
      "16      16\n",
      "18      11\n",
      "17       9\n",
      "21       3\n",
      "20       2\n",
      "23       2\n",
      "19       2\n",
      "25       1\n",
      "Name: count, dtype: int64\n"
     ]
    }
   ],
   "source": [
    "df['Synopsis'] = df['Synopsis'].apply(clean_text)\n",
    "df['Tag'] = df['Tag'].apply(lambda x: [t.strip().lower() for t in x.split(\",\")])\n",
    "\n",
    "# --- Check nulls ---\n",
    "print(f\"Nulls per column:\\n{df.isnull().sum()}\")"
   ]
  },
  {
   "cell_type": "code",
   "execution_count": 7,
   "id": "54148297",
   "metadata": {},
   "outputs": [],
   "source": [
    "# --- Distribution of tags ---\n",
    "all_tags = [tag for tags_list in df['Tag'] for tag in tags_list]\n",
    "tag_counts = pd.Series(all_tags).value_counts()"
   ]
  },
  {
   "cell_type": "code",
   "execution_count": 11,
   "id": "53a51276",
   "metadata": {},
   "outputs": [
    {
     "data": {
      "text/plain": [
       "murder              5782\n",
       "violence            4426\n",
       "flashback           2937\n",
       "romantic            2906\n",
       "cult                2647\n",
       "                    ... \n",
       "suicidal              54\n",
       "magical realism       54\n",
       "autobiographical      44\n",
       "christian film        42\n",
       "non fiction           37\n",
       "Name: count, Length: 71, dtype: int64"
      ]
     },
     "execution_count": 11,
     "metadata": {},
     "output_type": "execute_result"
    }
   ],
   "source": [
    "tag_counts"
   ]
  },
  {
   "cell_type": "code",
   "execution_count": 8,
   "id": "c111fc42",
   "metadata": {},
   "outputs": [],
   "source": [
    "df['synopsis_len'] = df['Synopsis'].apply(lambda x: len(x.split()))"
   ]
  },
  {
   "cell_type": "code",
   "execution_count": 9,
   "id": "b67c9aa0",
   "metadata": {},
   "outputs": [
    {
     "data": {
      "text/html": [
       "<div>\n",
       "<style scoped>\n",
       "    .dataframe tbody tr th:only-of-type {\n",
       "        vertical-align: middle;\n",
       "    }\n",
       "\n",
       "    .dataframe tbody tr th {\n",
       "        vertical-align: top;\n",
       "    }\n",
       "\n",
       "    .dataframe thead th {\n",
       "        text-align: right;\n",
       "    }\n",
       "</style>\n",
       "<table border=\"1\" class=\"dataframe\">\n",
       "  <thead>\n",
       "    <tr style=\"text-align: right;\">\n",
       "      <th></th>\n",
       "      <th>Unnamed: 0</th>\n",
       "      <th>Title</th>\n",
       "      <th>Synopsis</th>\n",
       "      <th>Tag</th>\n",
       "      <th>num_tags</th>\n",
       "      <th>synopsis_len</th>\n",
       "    </tr>\n",
       "  </thead>\n",
       "  <tbody>\n",
       "    <tr>\n",
       "      <th>0</th>\n",
       "      <td>0</td>\n",
       "      <td>I tre volti della paura</td>\n",
       "      <td>note: this synopsis is for the orginal italian...</td>\n",
       "      <td>[cult, horror, gothic, murder, atmospheric]</td>\n",
       "      <td>5</td>\n",
       "      <td>1315</td>\n",
       "    </tr>\n",
       "    <tr>\n",
       "      <th>1</th>\n",
       "      <td>1</td>\n",
       "      <td>Dungeons &amp; Dragons: The Book of Vile Darkness</td>\n",
       "      <td>two thousand years ago, nhagruul the foul, a s...</td>\n",
       "      <td>[violence]</td>\n",
       "      <td>1</td>\n",
       "      <td>378</td>\n",
       "    </tr>\n",
       "    <tr>\n",
       "      <th>2</th>\n",
       "      <td>2</td>\n",
       "      <td>The Shop Around the Corner</td>\n",
       "      <td>matuschek's, a gift store in budapest, is the ...</td>\n",
       "      <td>[romantic]</td>\n",
       "      <td>1</td>\n",
       "      <td>707</td>\n",
       "    </tr>\n",
       "    <tr>\n",
       "      <th>3</th>\n",
       "      <td>3</td>\n",
       "      <td>Mr. Holland's Opus</td>\n",
       "      <td>glenn holland, not a morning person by anyone'...</td>\n",
       "      <td>[inspiring, romantic, stupid, feel-good]</td>\n",
       "      <td>4</td>\n",
       "      <td>2317</td>\n",
       "    </tr>\n",
       "    <tr>\n",
       "      <th>4</th>\n",
       "      <td>4</td>\n",
       "      <td>Scarface</td>\n",
       "      <td>in may 1980, a cuban man named tony montana (a...</td>\n",
       "      <td>[cruelty, murder, dramatic, cult, violence, at...</td>\n",
       "      <td>10</td>\n",
       "      <td>3063</td>\n",
       "    </tr>\n",
       "  </tbody>\n",
       "</table>\n",
       "</div>"
      ],
      "text/plain": [
       "   Unnamed: 0                                          Title  \\\n",
       "0           0                        I tre volti della paura   \n",
       "1           1  Dungeons & Dragons: The Book of Vile Darkness   \n",
       "2           2                     The Shop Around the Corner   \n",
       "3           3                             Mr. Holland's Opus   \n",
       "4           4                                       Scarface   \n",
       "\n",
       "                                            Synopsis  \\\n",
       "0  note: this synopsis is for the orginal italian...   \n",
       "1  two thousand years ago, nhagruul the foul, a s...   \n",
       "2  matuschek's, a gift store in budapest, is the ...   \n",
       "3  glenn holland, not a morning person by anyone'...   \n",
       "4  in may 1980, a cuban man named tony montana (a...   \n",
       "\n",
       "                                                 Tag  num_tags  synopsis_len  \n",
       "0        [cult, horror, gothic, murder, atmospheric]         5          1315  \n",
       "1                                         [violence]         1           378  \n",
       "2                                         [romantic]         1           707  \n",
       "3           [inspiring, romantic, stupid, feel-good]         4          2317  \n",
       "4  [cruelty, murder, dramatic, cult, violence, at...        10          3063  "
      ]
     },
     "execution_count": 9,
     "metadata": {},
     "output_type": "execute_result"
    }
   ],
   "source": [
    "df.head()"
   ]
  },
  {
   "cell_type": "code",
   "execution_count": null,
   "id": "b6d8c976",
   "metadata": {},
   "outputs": [
    {
     "name": "stdout",
     "output_type": "stream",
     "text": [
      " Estatísticas gerais da contagem de palavras:\n",
      "\n",
      "count    14828.000000\n",
      "mean       895.436539\n",
      "std        879.819134\n",
      "min         67.000000\n",
      "25%        429.000000\n",
      "50%        659.000000\n",
      "75%       1001.000000\n",
      "max      11406.000000\n",
      "Name: word_count, dtype: float64\n"
     ]
    }
   ],
   "source": [
    "import pandas as pd\n",
    "import matplotlib.pyplot as plt\n",
    "\n",
    "# Cria coluna com número de palavras da sinopse\n",
    "df['word_count'] = df['Synopsis'].apply(lambda x: len(str(x).split()))\n",
    "\n",
    "# Calcular estatísticas gerais\n",
    "print(\" Estatísticas gerais da contagem de palavras:\\n\")\n",
    "print(df['word_count'].describe())"
   ]
  },
  {
   "cell_type": "code",
   "execution_count": 23,
   "id": "ed636add",
   "metadata": {},
   "outputs": [
    {
     "name": "stdout",
     "output_type": "stream",
     "text": [
      "Dataset size: 0.09 GB\n"
     ]
    }
   ],
   "source": [
    "size_gb = df.memory_usage(deep=True).sum() / (1024**3)  # Em gigabytes\n",
    "print(f\"Dataset size: {size_gb:.2f} GB\")"
   ]
  },
  {
   "cell_type": "code",
   "execution_count": null,
   "id": "652001fe",
   "metadata": {},
   "outputs": [],
   "source": []
  }
 ],
 "metadata": {
  "kernelspec": {
   "display_name": ".venv",
   "language": "python",
   "name": "python3"
  },
  "language_info": {
   "codemirror_mode": {
    "name": "ipython",
    "version": 3
   },
   "file_extension": ".py",
   "mimetype": "text/x-python",
   "name": "python",
   "nbconvert_exporter": "python",
   "pygments_lexer": "ipython3",
   "version": "3.11.9"
  }
 },
 "nbformat": 4,
 "nbformat_minor": 5
}
